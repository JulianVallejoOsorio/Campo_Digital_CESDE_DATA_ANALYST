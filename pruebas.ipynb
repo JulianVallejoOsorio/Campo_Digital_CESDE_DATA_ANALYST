{
 "cells": [
  {
   "cell_type": "code",
   "execution_count": 4,
   "id": "f838e883",
   "metadata": {},
   "outputs": [],
   "source": [
    "import pandas as pd"
   ]
  },
  {
   "cell_type": "code",
   "execution_count": 9,
   "id": "464ebca9",
   "metadata": {},
   "outputs": [],
   "source": [
    "df_address= pd.read_csv( \"data/address/address.csv\", sep=\";\")\n",
    "df_products= pd.read_csv( \"data/products/products.csv\", sep=\";\")\n",
    "df_sales= pd.read_csv( \"data/sales/sales.csv\", sep=\";\")\n",
    "df_salesdetails= pd.read_csv( \"data/sales_details/sales_details.csv\", sep=\";\")\n",
    "df_users= pd.read_csv( \"data/users/users.csv\", sep=\";\")\n"
   ]
  },
  {
   "cell_type": "code",
   "execution_count": 16,
   "id": "69b5173c",
   "metadata": {},
   "outputs": [
    {
     "data": {
      "text/plain": [
       "id_cliente          0\n",
       "nombre_completo     0\n",
       "email               0\n",
       "telefono            0\n",
       "username            0\n",
       "numero_documento    0\n",
       "fecha_nacimiento    0\n",
       "dtype: int64"
      ]
     },
     "execution_count": 16,
     "metadata": {},
     "output_type": "execute_result"
    }
   ],
   "source": [
    "df_users.isna().sum()\n",
    "df_users = df_users.dropna(subset=[\"id_cliente\"]).copy()\n",
    "df_users[\"nombre_completo\"] = df_users[\"nombre_completo\"].fillna(\"Desconocido\")\n",
    "df_users[\"email\"] = df_users[\"email\"].fillna(\"Desconocido\")\n",
    "df_users[\"telefono\"] = df_users[\"telefono\"].fillna(\"Desconocido\")\n",
    "df_users[\"username\"] = df_users[\"username\"].fillna(\"Desconocido\")\n",
    "df_users[\"numero_documento\"] = df_users[\"numero_documento\"].fillna(\"Desconocido\")\n",
    "default_date = pd.to_datetime(\"1900-01-01\")\n",
    "df_users[\"fecha_nacimiento\"] = pd.to_datetime(df_users[\"fecha_nacimiento\"], errors=\"coerce\").fillna(default_date)\n",
    "df_users.isna().sum()"
   ]
  },
  {
   "cell_type": "code",
   "execution_count": null,
   "id": "9429d2f7",
   "metadata": {},
   "outputs": [
    {
     "data": {
      "text/html": [
       "<div>\n",
       "<style scoped>\n",
       "    .dataframe tbody tr th:only-of-type {\n",
       "        vertical-align: middle;\n",
       "    }\n",
       "\n",
       "    .dataframe tbody tr th {\n",
       "        vertical-align: top;\n",
       "    }\n",
       "\n",
       "    .dataframe thead th {\n",
       "        text-align: right;\n",
       "    }\n",
       "</style>\n",
       "<table border=\"1\" class=\"dataframe\">\n",
       "  <thead>\n",
       "    <tr style=\"text-align: right;\">\n",
       "      <th></th>\n",
       "      <th>id_direccion</th>\n",
       "      <th>id_cliente</th>\n",
       "      <th>descripcion</th>\n",
       "      <th>codigo_ciudad</th>\n",
       "    </tr>\n",
       "  </thead>\n",
       "  <tbody>\n",
       "    <tr>\n",
       "      <th>0</th>\n",
       "      <td>1</td>\n",
       "      <td>14.0</td>\n",
       "      <td>Avenida de Ibán Viña 13\\r\\nVizcaya, 54596</td>\n",
       "      <td>4106.0</td>\n",
       "    </tr>\n",
       "  </tbody>\n",
       "</table>\n",
       "</div>"
      ],
      "text/plain": [
       "   id_direccion  id_cliente                                descripcion  \\\n",
       "0             1        14.0  Avenida de Ibán Viña 13\\r\\nVizcaya, 54596   \n",
       "\n",
       "   codigo_ciudad  \n",
       "0         4106.0  "
      ]
     },
     "execution_count": 19,
     "metadata": {},
     "output_type": "execute_result"
    }
   ],
   "source": [
    "df_address.head(1)\n",
    "df_address.isna().sum()\n",
    "df_address=df_address.dropna(subset=[\"id_direccion\"]).copy()\n",
    "df_address=df_address.dropna(subset=[\"id_cliente\"]).copy()\n",
    "df_address=df_address.dropna(subset=[\"codigo_ciudad\"]).copy()\n",
    "df_address[\"descripcion\"] = df_address[\"descripcion\"].fillna(\"Desconocido\")\n",
    "df_address[\"ciudad\"] = df_address[\"ciudad\"].fillna(\"Desconocido\")\n",
    "df_address[\"pais\"] = df_address[\"pais\"].fillna(\"Desconocido\")\n",
    "df_address[\"codigo_postal\"] = df_address[\"codigo_postal\"].fillna(\"Desconocido\")"
   ]
  },
  {
   "cell_type": "code",
   "execution_count": null,
   "id": "fcac27e7",
   "metadata": {},
   "outputs": [
    {
     "data": {
      "text/html": [
       "<div>\n",
       "<style scoped>\n",
       "    .dataframe tbody tr th:only-of-type {\n",
       "        vertical-align: middle;\n",
       "    }\n",
       "\n",
       "    .dataframe tbody tr th {\n",
       "        vertical-align: top;\n",
       "    }\n",
       "\n",
       "    .dataframe thead th {\n",
       "        text-align: right;\n",
       "    }\n",
       "</style>\n",
       "<table border=\"1\" class=\"dataframe\">\n",
       "  <thead>\n",
       "    <tr style=\"text-align: right;\">\n",
       "      <th></th>\n",
       "      <th>id_producto</th>\n",
       "      <th>producto</th>\n",
       "      <th>descripcion</th>\n",
       "      <th>categoria</th>\n",
       "      <th>unidad</th>\n",
       "      <th>precio</th>\n",
       "      <th>is_active</th>\n",
       "    </tr>\n",
       "  </thead>\n",
       "  <tbody>\n",
       "    <tr>\n",
       "      <th>0</th>\n",
       "      <td>1</td>\n",
       "      <td>Et</td>\n",
       "      <td>Occaecati ad laborum suscipit nostrum itaque.</td>\n",
       "      <td>hogar</td>\n",
       "      <td>lt</td>\n",
       "      <td>159,08</td>\n",
       "      <td>VERDADERO</td>\n",
       "    </tr>\n",
       "  </tbody>\n",
       "</table>\n",
       "</div>"
      ],
      "text/plain": [
       "   id_producto producto                                    descripcion  \\\n",
       "0            1       Et  Occaecati ad laborum suscipit nostrum itaque.   \n",
       "\n",
       "  categoria unidad  precio  is_active  \n",
       "0     hogar     lt  159,08  VERDADERO  "
      ]
     },
     "execution_count": 12,
     "metadata": {},
     "output_type": "execute_result"
    }
   ],
   "source": [
    "df_products.head(1)\n",
    "df"
   ]
  },
  {
   "cell_type": "code",
   "execution_count": 13,
   "id": "b36a3a0e",
   "metadata": {},
   "outputs": [
    {
     "data": {
      "text/html": [
       "<div>\n",
       "<style scoped>\n",
       "    .dataframe tbody tr th:only-of-type {\n",
       "        vertical-align: middle;\n",
       "    }\n",
       "\n",
       "    .dataframe tbody tr th {\n",
       "        vertical-align: top;\n",
       "    }\n",
       "\n",
       "    .dataframe thead th {\n",
       "        text-align: right;\n",
       "    }\n",
       "</style>\n",
       "<table border=\"1\" class=\"dataframe\">\n",
       "  <thead>\n",
       "    <tr style=\"text-align: right;\">\n",
       "      <th></th>\n",
       "      <th>id</th>\n",
       "      <th>fecha</th>\n",
       "      <th>id_cliente</th>\n",
       "      <th>direccion_id</th>\n",
       "      <th>total</th>\n",
       "    </tr>\n",
       "  </thead>\n",
       "  <tbody>\n",
       "    <tr>\n",
       "      <th>0</th>\n",
       "      <td>1</td>\n",
       "      <td>45860</td>\n",
       "      <td>25</td>\n",
       "      <td>31</td>\n",
       "      <td>849,13</td>\n",
       "    </tr>\n",
       "  </tbody>\n",
       "</table>\n",
       "</div>"
      ],
      "text/plain": [
       "   id  fecha  id_cliente  direccion_id   total\n",
       "0   1  45860          25            31  849,13"
      ]
     },
     "execution_count": 13,
     "metadata": {},
     "output_type": "execute_result"
    }
   ],
   "source": [
    "df_sales.head(1)"
   ]
  },
  {
   "cell_type": "code",
   "execution_count": 14,
   "id": "5376fd55",
   "metadata": {},
   "outputs": [
    {
     "data": {
      "text/html": [
       "<div>\n",
       "<style scoped>\n",
       "    .dataframe tbody tr th:only-of-type {\n",
       "        vertical-align: middle;\n",
       "    }\n",
       "\n",
       "    .dataframe tbody tr th {\n",
       "        vertical-align: top;\n",
       "    }\n",
       "\n",
       "    .dataframe thead th {\n",
       "        text-align: right;\n",
       "    }\n",
       "</style>\n",
       "<table border=\"1\" class=\"dataframe\">\n",
       "  <thead>\n",
       "    <tr style=\"text-align: right;\">\n",
       "      <th></th>\n",
       "      <th>id_detalle</th>\n",
       "      <th>id_venta</th>\n",
       "      <th>id_producto</th>\n",
       "      <th>cantidad</th>\n",
       "      <th>subtotal</th>\n",
       "    </tr>\n",
       "  </thead>\n",
       "  <tbody>\n",
       "    <tr>\n",
       "      <th>0</th>\n",
       "      <td>1</td>\n",
       "      <td>12</td>\n",
       "      <td>5</td>\n",
       "      <td>3</td>\n",
       "      <td>796,98</td>\n",
       "    </tr>\n",
       "  </tbody>\n",
       "</table>\n",
       "</div>"
      ],
      "text/plain": [
       "   id_detalle  id_venta  id_producto  cantidad subtotal\n",
       "0           1        12            5         3   796,98"
      ]
     },
     "execution_count": 14,
     "metadata": {},
     "output_type": "execute_result"
    }
   ],
   "source": [
    "df_salesdetails.head(1)"
   ]
  }
 ],
 "metadata": {
  "kernelspec": {
   "display_name": "venv",
   "language": "python",
   "name": "python3"
  },
  "language_info": {
   "codemirror_mode": {
    "name": "ipython",
    "version": 3
   },
   "file_extension": ".py",
   "mimetype": "text/x-python",
   "name": "python",
   "nbconvert_exporter": "python",
   "pygments_lexer": "ipython3",
   "version": "3.13.7"
  }
 },
 "nbformat": 4,
 "nbformat_minor": 5
}
