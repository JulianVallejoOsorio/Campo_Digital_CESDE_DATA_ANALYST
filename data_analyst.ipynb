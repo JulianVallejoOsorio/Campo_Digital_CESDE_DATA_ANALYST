{
 "cells": [
  {
   "cell_type": "markdown",
   "id": "931da287",
   "metadata": {},
   "source": []
  }
 ],
 "metadata": {
  "language_info": {
   "name": "python"
  }
 },
 "nbformat": 4,
 "nbformat_minor": 5
}
