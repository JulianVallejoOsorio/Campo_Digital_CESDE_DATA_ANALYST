{
 "cells": [
  {
   "cell_type": "markdown",
   "id": "931da287",
   "metadata": {},
   "source": [
    "# Modulo de conexion o carga de datos\n",
    "# Importamos pandas y numpy"
   ]
  },
  {
   "cell_type": "code",
   "execution_count": 4,
   "id": "95b33b3d",
   "metadata": {},
   "outputs": [],
   "source": [
    "import pandas as pd\n",
    "import numpy as np"
   ]
  },
  {
   "cell_type": "code",
   "execution_count": null,
   "id": "27c7f1e6",
   "metadata": {},
   "outputs": [],
   "source": [
    "df = pd.read_csv(\"data/address/address.csv\", sep=\";\", encoding=\"utf-8\")\n"
   ]
  }
 ],
 "metadata": {
  "kernelspec": {
   "display_name": "venv",
   "language": "python",
   "name": "python3"
  },
  "language_info": {
   "codemirror_mode": {
    "name": "ipython",
    "version": 3
   },
   "file_extension": ".py",
   "mimetype": "text/x-python",
   "name": "python",
   "nbconvert_exporter": "python",
   "pygments_lexer": "ipython3",
   "version": "3.13.7"
  }
 },
 "nbformat": 4,
 "nbformat_minor": 5
}
